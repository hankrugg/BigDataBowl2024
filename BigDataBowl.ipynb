{
 "cells": [
  {
   "cell_type": "markdown",
   "id": "e881bc65",
   "metadata": {},
   "source": [
    "# Data Exploration"
   ]
  },
  {
   "cell_type": "code",
   "execution_count": 1,
   "id": "fe8290be",
   "metadata": {
    "ExecuteTime": {
     "end_time": "2024-07-15T16:10:22.400260Z",
     "start_time": "2024-07-15T16:10:22.395871Z"
    }
   },
   "outputs": [],
   "source": [
    "import pandas as pd\n",
    "import numpy as np\n",
    "import matplotlib.pyplot as plt\n",
    "pd.set_option('display.max_columns', 100)\n",
    "pd.set_option('display.max_rows', 100)"
   ]
  },
  {
   "cell_type": "code",
   "execution_count": 2,
   "id": "591992ca",
   "metadata": {
    "scrolled": true
   },
   "outputs": [
    {
     "name": "stdout",
     "output_type": "stream",
     "text": [
      "Games data has been cleaned and memory has been reduced by 2.65625 bytes.\n",
      "Players data has been cleaned and memory has been reduced by 13.1484375 bytes.\n",
      "Plays data has been cleaned and memory has been reduced by 1041.80859375 bytes.\n",
      "Tackles data has been cleaned and memory has been reduced by 476.4921875 bytes.\n",
      "Tracking data has been cleaned and memory has been reduced by 54978.0859375 bytes.\n"
     ]
    }
   ],
   "source": [
    "from Cleaning import *\n",
    "games = clean_games_data(pd.read_csv(\"data/games.csv\"))\n",
    "players = clean_players_data(pd.read_csv(\"data/players.csv\"))\n",
    "plays = clean_plays_data(pd.read_csv(\"data/plays.csv\"))\n",
    "tackles = clean_tackles_data(pd.read_csv(\"data/tackles.csv\"))\n",
    "tracking = clean_tracking_data(pd.read_csv(\"data/tracking_week_1.csv\"))"
   ]
  },
  {
   "cell_type": "code",
   "execution_count": null,
   "id": "ce69da7d",
   "metadata": {
    "ExecuteTime": {
     "end_time": "2024-07-15T16:10:27.240416Z",
     "start_time": "2024-07-15T16:10:26.786418Z"
    }
   },
   "outputs": [],
   "source": [
    "data = pd.merge(plays, tracking, on = [\"gameId\", \"playId\"])"
   ]
  },
  {
   "cell_type": "markdown",
   "id": "421d4783",
   "metadata": {},
   "source": [
    "Finding who made the tackle on this play"
   ]
  },
  {
   "cell_type": "markdown",
   "id": "9c4feb9e",
   "metadata": {},
   "source": [
    "Show the movement of the players during the play"
   ]
  },
  {
   "cell_type": "code",
   "execution_count": null,
   "id": "65aadfdc",
   "metadata": {
    "ExecuteTime": {
     "end_time": "2024-07-15T16:10:34.813373Z",
     "start_time": "2024-07-15T16:10:34.810190Z"
    },
    "scrolled": true
   },
   "outputs": [],
   "source": [
    "# Make a more customized version in plotly"
   ]
  },
  {
   "cell_type": "code",
   "execution_count": null,
   "id": "b9b61957dfeb2cde",
   "metadata": {
    "ExecuteTime": {
     "end_time": "2024-07-15T16:10:35.532709Z",
     "start_time": "2024-07-15T16:10:35.521967Z"
    }
   },
   "outputs": [],
   "source": [
    "exampleFrame = data.query('gameId == 2022091103 and '\n",
    "           'playId == 3126 and '\n",
    "           'frameId == 20')"
   ]
  },
  {
   "cell_type": "code",
   "execution_count": null,
   "id": "b49a672950f02b9d",
   "metadata": {
    "ExecuteTime": {
     "end_time": "2024-07-15T16:11:07.264546Z",
     "start_time": "2024-07-15T16:11:06.974582Z"
    },
    "scrolled": false
   },
   "outputs": [],
   "source": [
    "import plotly.graph_objects as go\n",
    "from Visualizations import animatePlay\n",
    "from Preprocessing import create_acceleration_vectors, create_velocity_vectors\n",
    "\n",
    "tracking = create_acceleration_vectors(tracking)\n",
    "tracking = create_velocity_vectors(tracking)\n",
    "animatePlay(games, plays, tracking, gameId=2022090800, playId=818, velocity=True, acceleration=True)\n"
   ]
  },
  {
   "cell_type": "code",
   "execution_count": null,
   "id": "7e933211",
   "metadata": {
    "scrolled": true
   },
   "outputs": [],
   "source": [
    "tracking.head(20)"
   ]
  },
  {
   "cell_type": "code",
   "execution_count": null,
   "id": "dfdb401a",
   "metadata": {
    "scrolled": true
   },
   "outputs": [],
   "source": [
    "((1.372338)**2 + (0.860866)**2)"
   ]
  },
  {
   "cell_type": "code",
   "execution_count": null,
   "id": "eb2b22b1",
   "metadata": {},
   "outputs": [],
   "source": [
    "np.sqrt(2.6244018562000004)"
   ]
  },
  {
   "cell_type": "code",
   "execution_count": null,
   "id": "70e3fd9b",
   "metadata": {},
   "outputs": [],
   "source": [
    "(tracking['s'].iloc[0] * np.sin(tracking['dir_rad'].iloc[0]))"
   ]
  },
  {
   "cell_type": "code",
   "execution_count": null,
   "id": "6a394c71",
   "metadata": {
    "ExecuteTime": {
     "end_time": "2024-06-21T17:02:08.761678Z",
     "start_time": "2024-06-21T17:02:08.751290Z"
    }
   },
   "outputs": [],
   "source": [
    "play = data[(data['gameId'] == 2022090800) & (data['playId'] == 80)]"
   ]
  },
  {
   "cell_type": "code",
   "execution_count": null,
   "id": "84905607",
   "metadata": {
    "ExecuteTime": {
     "end_time": "2024-06-21T17:02:40.164714Z",
     "start_time": "2024-06-21T17:02:40.149682Z"
    }
   },
   "outputs": [],
   "source": [
    "playerData = data[(data['gameId'] == 2022090800) & (data['playId'] == 56) & (data['nflId'] == 35472)]"
   ]
  },
  {
   "cell_type": "markdown",
   "id": "5ab3da44",
   "metadata": {},
   "source": [
    "Find the relationship between the player and the ball at all times."
   ]
  },
  {
   "cell_type": "code",
   "execution_count": null,
   "id": "6e54efe1",
   "metadata": {
    "ExecuteTime": {
     "end_time": "2024-06-21T14:50:41.544975Z",
     "start_time": "2024-06-21T14:50:41.540928Z"
    },
    "scrolled": true
   },
   "outputs": [],
   "source": [
    "football = play[play['club'] == 'football']\n",
    "\n",
    "footballAndPlayer = pd.merge(football, play, on = ['gameId', 'playId', 'ballCarrierId', 'ballCarrierDisplayName',\n",
    "       'playDescription', 'quarter', 'down', 'yardsToGo', 'possessionTeam',\n",
    "       'defensiveTeam', 'yardlineSide', 'yardlineNumber', 'gameClock',\n",
    "       'preSnapHomeScore', 'preSnapVisitorScore', 'passResult', 'passLength',\n",
    "       'penaltyYards', 'prePenaltyPlayResult', 'playResult',\n",
    "       'playNullifiedByPenalty', 'absoluteYardlineNumber', 'offenseFormation',\n",
    "       'defendersInTheBox', 'passProbability', 'preSnapHomeTeamWinProbability',\n",
    "       'preSnapVisitorTeamWinProbability', 'homeTeamWinProbabilityAdded',\n",
    "       'visitorTeamWinProbilityAdded', 'expectedPoints', 'expectedPointsAdded',\n",
    "       'foulName1', 'foulName2', 'foulNFLId1', 'foulNFLId2',\n",
    "        'frameId', 'time',\n",
    "       'playDirection','event'])"
   ]
  },
  {
   "cell_type": "code",
   "execution_count": null,
   "id": "d5a5f476",
   "metadata": {
    "ExecuteTime": {
     "end_time": "2024-06-21T14:50:42.356787Z",
     "start_time": "2024-06-21T14:50:42.351572Z"
    }
   },
   "outputs": [],
   "source": [
    "footballAndPlayer['distanceFromBall'] = np.sqrt((footballAndPlayer['x_x'] - footballAndPlayer['x_y'])**2 + (footballAndPlayer['y_x'] - footballAndPlayer['y_y'])**2)"
   ]
  },
  {
   "cell_type": "markdown",
   "id": "c4780323",
   "metadata": {},
   "source": [
    "Find the distance between the players and the ball at all times"
   ]
  },
  {
   "cell_type": "code",
   "execution_count": null,
   "id": "f859c32b",
   "metadata": {
    "ExecuteTime": {
     "end_time": "2024-06-21T14:50:43.605077Z",
     "start_time": "2024-06-21T14:50:43.602564Z"
    }
   },
   "outputs": [],
   "source": [
    "defense = footballAndPlayer[footballAndPlayer['club_y'] == footballAndPlayer.iloc[0]['defensiveTeam']]"
   ]
  },
  {
   "cell_type": "markdown",
   "id": "1695a205",
   "metadata": {},
   "source": [
    "Plot the distance between each player and the ball at all times during the play"
   ]
  },
  {
   "cell_type": "code",
   "execution_count": null,
   "id": "dc4102c1",
   "metadata": {
    "ExecuteTime": {
     "end_time": "2024-06-21T17:01:30.271746Z",
     "start_time": "2024-06-21T17:01:30.260268Z"
    },
    "scrolled": true
   },
   "outputs": [],
   "source": [
    "playersInGame = set(defense['displayName_y'])\n",
    "for index, player in enumerate(playersInGame):\n",
    "    plt.plot(defense[defense['displayName_y'] == player]['frameId'], defense[defense['displayName_y'] == player]['distanceFromBall'])\n",
    "plt.legend(playersInGame)\n",
    "plt.axhline(0)\n",
    "plt.axvline(defense[defense['event'] == \"tackle\"]['frameId'].iloc[0])\n",
    "plt.show()"
   ]
  },
  {
   "cell_type": "markdown",
   "id": "ab5986c2",
   "metadata": {},
   "source": [
    "Plot the speed of the player at all times"
   ]
  },
  {
   "cell_type": "code",
   "execution_count": null,
   "id": "96d7fc09",
   "metadata": {
    "ExecuteTime": {
     "end_time": "2024-06-21T17:01:36.645603Z",
     "start_time": "2024-06-21T17:01:36.640348Z"
    },
    "scrolled": true
   },
   "outputs": [],
   "source": [
    "playersInGame = set(defense['displayName_y'])\n",
    "for index, player in enumerate(playersInGame):\n",
    "    plt.plot(defense[defense['displayName_y'] == player]['frameId'], defense[defense['displayName_y'] == player]['s_y'])\n",
    "plt.legend(playersInGame)\n",
    "plt.axvline(defense[defense['event'] == \"tackle\"]['frameId'].iloc[0])\n",
    "plt.show()"
   ]
  },
  {
   "cell_type": "markdown",
   "id": "e2205cf3",
   "metadata": {},
   "source": [
    "Plot the acceleration of the player at all times"
   ]
  },
  {
   "cell_type": "code",
   "execution_count": null,
   "id": "9fa1dad7",
   "metadata": {
    "ExecuteTime": {
     "end_time": "2024-06-21T17:01:38.140172Z",
     "start_time": "2024-06-21T17:01:38.135353Z"
    },
    "scrolled": true
   },
   "outputs": [],
   "source": [
    "playersInGame = set(defense['displayName_y'])\n",
    "for index, player in enumerate(playersInGame):\n",
    "    plt.plot(defense[defense['displayName_y'] == player]['frameId'], defense[defense['displayName_y'] == player]['a_y'])\n",
    "plt.legend(playersInGame)\n",
    "plt.axvline(defense[defense['event'] == \"tackle\"]['frameId'].iloc[0])\n",
    "plt.show()"
   ]
  },
  {
   "cell_type": "markdown",
   "id": "9b4794ca",
   "metadata": {},
   "source": [
    "# Classify each tackle as open-field, sideline, in the hole, solo, or gang."
   ]
  },
  {
   "cell_type": "markdown",
   "id": "23e701fb",
   "metadata": {},
   "source": [
    "Criteria for each tackle:\n",
    "- open field\n",
    "    - The defender is "
   ]
  },
  {
   "cell_type": "code",
   "execution_count": null,
   "id": "c989e0f5",
   "metadata": {
    "ExecuteTime": {
     "end_time": "2024-06-21T17:01:40.120546Z",
     "start_time": "2024-06-21T17:01:40.116964Z"
    }
   },
   "outputs": [],
   "source": []
  }
 ],
 "metadata": {
  "kernelspec": {
   "display_name": "Python 3 (ipykernel)",
   "language": "python",
   "name": "python3"
  },
  "language_info": {
   "codemirror_mode": {
    "name": "ipython",
    "version": 3
   },
   "file_extension": ".py",
   "mimetype": "text/x-python",
   "name": "python",
   "nbconvert_exporter": "python",
   "pygments_lexer": "ipython3",
   "version": "3.11.5"
  }
 },
 "nbformat": 4,
 "nbformat_minor": 5
}
