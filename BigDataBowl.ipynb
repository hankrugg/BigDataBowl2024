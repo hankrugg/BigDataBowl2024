{
 "cells": [
  {
   "cell_type": "markdown",
   "id": "e881bc65",
   "metadata": {},
   "source": [
    "# NFL Big Data Bowl 2024 - Tackling"
   ]
  },
  {
   "cell_type": "markdown",
   "id": "ba477655",
   "metadata": {},
   "source": [
    "Introduction"
   ]
  },
  {
   "cell_type": "markdown",
   "id": "2a4a1e0d",
   "metadata": {},
   "source": [
    "## Cleaning"
   ]
  },
  {
   "cell_type": "code",
   "execution_count": 1,
   "id": "fe8290be",
   "metadata": {
    "ExecuteTime": {
     "end_time": "2024-07-15T16:10:22.400260Z",
     "start_time": "2024-07-15T16:10:22.395871Z"
    }
   },
   "outputs": [],
   "source": [
    "import pandas as pd\n",
    "import numpy as np\n",
    "import matplotlib.pyplot as plt\n",
    "pd.set_option('display.max_columns', 100)\n",
    "pd.set_option('display.max_rows', 100)"
   ]
  },
  {
   "cell_type": "code",
   "execution_count": 2,
   "id": "ce68b7fb",
   "metadata": {},
   "outputs": [],
   "source": [
    "tracking = []\n",
    "for i in range(1, 10):\n",
    "    tracking.append(pd.read_csv(f\"data/tracking_week_{i}.csv\"))\n",
    "tracking = pd.concat(tracking)\n",
    "tracking.reset_index(drop=True, inplace=True)"
   ]
  },
  {
   "cell_type": "code",
   "execution_count": 3,
   "id": "591992ca",
   "metadata": {
    "scrolled": true
   },
   "outputs": [
    {
     "name": "stdout",
     "output_type": "stream",
     "text": [
      "Games data has been cleaned and memory has been reduced by 2.65625 bytes.\n",
      "Players data has been cleaned and memory has been reduced by 13.1484375 bytes.\n",
      "Plays data has been cleaned and memory has been reduced by 1041.80859375 bytes.\n",
      "Tackles data has been cleaned and memory has been reduced by 476.4921875 bytes.\n",
      "Tracking data has been cleaned and memory has been reduced by 476070.234375 bytes.\n"
     ]
    }
   ],
   "source": [
    "from Cleaning import clean_games_data, clean_plays_data, clean_players_data, \\\n",
    "    clean_tackles_data, clean_tracking_data\n",
    "games = clean_games_data(pd.read_csv(\"data/games.csv\"))\n",
    "players = clean_players_data(pd.read_csv(\"data/players.csv\"))\n",
    "plays = clean_plays_data(pd.read_csv(\"data/plays.csv\"))\n",
    "tackles = clean_tackles_data(pd.read_csv(\"data/tackles.csv\"))\n",
    "tracking = clean_tracking_data(tracking)"
   ]
  },
  {
   "cell_type": "code",
   "execution_count": null,
   "id": "76ef7351",
   "metadata": {
    "scrolled": false
   },
   "outputs": [],
   "source": [
    "from Cleaning import check_for_snap, check_for_end\n",
    "full_plays = check_for_snap(plays, tracking)\n",
    "full_plays = check_for_end(full_plays, tracking)"
   ]
  },
  {
   "cell_type": "markdown",
   "id": "7870b2e7",
   "metadata": {},
   "source": [
    "## Feature Engineering"
   ]
  },
  {
   "cell_type": "code",
   "execution_count": 4,
   "id": "9fe99380",
   "metadata": {},
   "outputs": [],
   "source": [
    "# Make all the plays go from left to right to remove the variablilty it may cause\n",
    "from Preprocessing import all_plays_left_to_right\n",
    "from Preprocessing import create_acceleration_vectors, create_velocity_vectors, create_player_influence\n",
    "\n",
    "full_plays, full_tracking = all_plays_left_to_right(plays, tracking)\n",
    "\n",
    "full_tracking = create_acceleration_vectors(full_tracking)\n",
    "full_tracking = create_velocity_vectors(full_tracking)\n",
    "full_tracking = create_player_influence(full_tracking)"
   ]
  },
  {
   "cell_type": "code",
   "execution_count": null,
   "id": "bf79dfd6",
   "metadata": {},
   "outputs": [],
   "source": [
    "from Visualizations import animate_play\n",
    "\n",
    "animate_play(games, full_plays, full_tracking, gameId=2022090800, playId=56, acceleration=True, velocity=True)"
   ]
  },
  {
   "cell_type": "code",
   "execution_count": null,
   "id": "ce69da7d",
   "metadata": {
    "ExecuteTime": {
     "end_time": "2024-07-15T16:10:27.240416Z",
     "start_time": "2024-07-15T16:10:26.786418Z"
    }
   },
   "outputs": [],
   "source": [
    "data = pd.merge(plays, tracking, on = [\"gameId\", \"playId\"])"
   ]
  },
  {
   "cell_type": "markdown",
   "id": "421d4783",
   "metadata": {},
   "source": [
    "Finding who made the tackle on this play"
   ]
  },
  {
   "cell_type": "markdown",
   "id": "9c4feb9e",
   "metadata": {},
   "source": [
    "Show the movement of the players during the play"
   ]
  },
  {
   "cell_type": "code",
   "execution_count": null,
   "id": "65aadfdc",
   "metadata": {
    "ExecuteTime": {
     "end_time": "2024-07-15T16:10:34.813373Z",
     "start_time": "2024-07-15T16:10:34.810190Z"
    },
    "scrolled": true
   },
   "outputs": [],
   "source": [
    "# Make a more customized version in plotly"
   ]
  },
  {
   "cell_type": "code",
   "execution_count": null,
   "id": "b9b61957dfeb2cde",
   "metadata": {
    "ExecuteTime": {
     "end_time": "2024-07-15T16:10:35.532709Z",
     "start_time": "2024-07-15T16:10:35.521967Z"
    }
   },
   "outputs": [],
   "source": [
    "exampleFrame = data.query('gameId == 2022091103 and '\n",
    "           'playId == 3126 and '\n",
    "           'frameId == 20')"
   ]
  },
  {
   "cell_type": "code",
   "execution_count": null,
   "id": "b49a672950f02b9d",
   "metadata": {
    "ExecuteTime": {
     "end_time": "2024-07-15T16:11:07.264546Z",
     "start_time": "2024-07-15T16:11:06.974582Z"
    },
    "scrolled": false
   },
   "outputs": [],
   "source": [
    "from Visualizations import animate_play\n",
    "animate_play(games, full_plays, full_tracking, gameId=2022091103, playId=3126, velocity=True)"
   ]
  },
  {
   "cell_type": "code",
   "execution_count": null,
   "id": "6a394c71",
   "metadata": {
    "ExecuteTime": {
     "end_time": "2024-06-21T17:02:08.761678Z",
     "start_time": "2024-06-21T17:02:08.751290Z"
    }
   },
   "outputs": [],
   "source": [
    "play = data[(data['gameId'] == 2022090800) & (data['playId'] == 80)]"
   ]
  },
  {
   "cell_type": "code",
   "execution_count": null,
   "id": "84905607",
   "metadata": {
    "ExecuteTime": {
     "end_time": "2024-06-21T17:02:40.164714Z",
     "start_time": "2024-06-21T17:02:40.149682Z"
    }
   },
   "outputs": [],
   "source": [
    "playerData = data[(data['gameId'] == 2022090800) & (data['playId'] == 56) & (data['nflId'] == 35472)]"
   ]
  },
  {
   "cell_type": "markdown",
   "id": "5ab3da44",
   "metadata": {},
   "source": [
    "Find the relationship between the player and the ball at all times."
   ]
  },
  {
   "cell_type": "code",
   "execution_count": null,
   "id": "6e54efe1",
   "metadata": {
    "ExecuteTime": {
     "end_time": "2024-06-21T14:50:41.544975Z",
     "start_time": "2024-06-21T14:50:41.540928Z"
    },
    "scrolled": true
   },
   "outputs": [],
   "source": [
    "football = play[play['club'] == 'football']\n",
    "\n",
    "footballAndPlayer = pd.merge(football, play, on = ['gameId', 'playId', 'ballCarrierId', 'ballCarrierDisplayName',\n",
    "       'playDescription', 'quarter', 'down', 'yardsToGo', 'possessionTeam',\n",
    "       'defensiveTeam', 'yardlineSide', 'yardlineNumber', 'gameClock',\n",
    "       'preSnapHomeScore', 'preSnapVisitorScore', 'passResult', 'passLength',\n",
    "       'penaltyYards', 'prePenaltyPlayResult', 'playResult',\n",
    "       'playNullifiedByPenalty', 'absoluteYardlineNumber', 'offenseFormation',\n",
    "       'defendersInTheBox', 'passProbability', 'preSnapHomeTeamWinProbability',\n",
    "       'preSnapVisitorTeamWinProbability', 'homeTeamWinProbabilityAdded',\n",
    "       'visitorTeamWinProbilityAdded', 'expectedPoints', 'expectedPointsAdded',\n",
    "       'foulName1', 'foulName2', 'foulNFLId1', 'foulNFLId2',\n",
    "        'frameId', 'time',\n",
    "       'playDirection','event'], suffixes=('_football', '_player'))"
   ]
  },
  {
   "cell_type": "code",
   "execution_count": null,
   "id": "66b31465",
   "metadata": {},
   "outputs": [],
   "source": [
    "footballAndPlayer"
   ]
  },
  {
   "cell_type": "code",
   "execution_count": null,
   "id": "d5a5f476",
   "metadata": {
    "ExecuteTime": {
     "end_time": "2024-06-21T14:50:42.356787Z",
     "start_time": "2024-06-21T14:50:42.351572Z"
    }
   },
   "outputs": [],
   "source": [
    "footballAndPlayer['distanceFromBall'] = np.sqrt((footballAndPlayer['x_x'] - footballAndPlayer['x_y'])**2 + (footballAndPlayer['y_x'] - footballAndPlayer['y_y'])**2)"
   ]
  },
  {
   "cell_type": "markdown",
   "id": "c4780323",
   "metadata": {},
   "source": [
    "Find the distance between the players and the ball at all times"
   ]
  },
  {
   "cell_type": "code",
   "execution_count": null,
   "id": "f859c32b",
   "metadata": {
    "ExecuteTime": {
     "end_time": "2024-06-21T14:50:43.605077Z",
     "start_time": "2024-06-21T14:50:43.602564Z"
    }
   },
   "outputs": [],
   "source": [
    "defense = footballAndPlayer[footballAndPlayer['club_y'] == footballAndPlayer.iloc[0]['defensiveTeam']]"
   ]
  },
  {
   "cell_type": "markdown",
   "id": "1695a205",
   "metadata": {},
   "source": [
    "Plot the distance between each player and the ball at all times during the play"
   ]
  },
  {
   "cell_type": "code",
   "execution_count": null,
   "id": "dc4102c1",
   "metadata": {
    "ExecuteTime": {
     "end_time": "2024-06-21T17:01:30.271746Z",
     "start_time": "2024-06-21T17:01:30.260268Z"
    },
    "scrolled": true
   },
   "outputs": [],
   "source": [
    "playersInGame = set(defense['displayName_y'])\n",
    "for index, player in enumerate(playersInGame):\n",
    "    plt.plot(defense[defense['displayName_y'] == player]['frameId'], defense[defense['displayName_y'] == player]['distanceFromBall'])\n",
    "plt.legend(playersInGame)\n",
    "plt.axhline(0)\n",
    "plt.axvline(defense[defense['event'] == \"tackle\"]['frameId'].iloc[0])\n",
    "plt.show()"
   ]
  },
  {
   "cell_type": "markdown",
   "id": "ab5986c2",
   "metadata": {},
   "source": [
    "Plot the speed of the player at all times"
   ]
  },
  {
   "cell_type": "code",
   "execution_count": null,
   "id": "96d7fc09",
   "metadata": {
    "ExecuteTime": {
     "end_time": "2024-06-21T17:01:36.645603Z",
     "start_time": "2024-06-21T17:01:36.640348Z"
    },
    "scrolled": true
   },
   "outputs": [],
   "source": [
    "playersInGame = set(defense['displayName_y'])\n",
    "for index, player in enumerate(playersInGame):\n",
    "    plt.plot(defense[defense['displayName_y'] == player]['frameId'], defense[defense['displayName_y'] == player]['s_y'])\n",
    "plt.legend(playersInGame)\n",
    "plt.axvline(defense[defense['event'] == \"tackle\"]['frameId'].iloc[0])\n",
    "plt.show()"
   ]
  },
  {
   "cell_type": "markdown",
   "id": "e2205cf3",
   "metadata": {},
   "source": [
    "Plot the acceleration of the player at all times"
   ]
  },
  {
   "cell_type": "code",
   "execution_count": null,
   "id": "9fa1dad7",
   "metadata": {
    "ExecuteTime": {
     "end_time": "2024-06-21T17:01:38.140172Z",
     "start_time": "2024-06-21T17:01:38.135353Z"
    },
    "scrolled": true
   },
   "outputs": [],
   "source": [
    "playersInGame = set(defense['displayName_y'])\n",
    "for index, player in enumerate(playersInGame):\n",
    "    plt.plot(defense[defense['displayName_y'] == player]['frameId'], defense[defense['displayName_y'] == player]['a_y'])\n",
    "plt.legend(playersInGame)\n",
    "plt.axvline(defense[defense['event'] == \"tackle\"]['frameId'].iloc[0])\n",
    "plt.show()"
   ]
  },
  {
   "cell_type": "markdown",
   "id": "9b4794ca",
   "metadata": {},
   "source": [
    "# Classify each tackle as open-field, sideline, in the hole, solo, or gang."
   ]
  },
  {
   "cell_type": "markdown",
   "id": "23e701fb",
   "metadata": {},
   "source": [
    "Criteria for each tackle:\n",
    "- open field\n",
    "    - The defender is \n",
    "    \n",
    "ToDo:\n",
    "Use a semi-supervised algorothm to classify all tackles\n",
    "Use this classification to rank players on their ability to make these specific tackles\n",
    "Create a reinforcemnt learning agent to make each type of tackle and see what the computer can do to make each tackle"
   ]
  },
  {
   "cell_type": "code",
   "execution_count": null,
   "id": "c989e0f5",
   "metadata": {
    "ExecuteTime": {
     "end_time": "2024-06-21T17:01:40.120546Z",
     "start_time": "2024-06-21T17:01:40.116964Z"
    }
   },
   "outputs": [],
   "source": []
  }
 ],
 "metadata": {
  "kernelspec": {
   "display_name": "Python 3 (ipykernel)",
   "language": "python",
   "name": "python3"
  },
  "language_info": {
   "codemirror_mode": {
    "name": "ipython",
    "version": 3
   },
   "file_extension": ".py",
   "mimetype": "text/x-python",
   "name": "python",
   "nbconvert_exporter": "python",
   "pygments_lexer": "ipython3",
   "version": "3.11.5"
  }
 },
 "nbformat": 4,
 "nbformat_minor": 5
}
