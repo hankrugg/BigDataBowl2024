{
 "cells": [
  {
   "cell_type": "markdown",
   "id": "e881bc65",
   "metadata": {},
   "source": [
    "# NFL Big Data Bowl 2024 - Tackling"
   ]
  },
  {
   "cell_type": "markdown",
   "id": "ba477655",
   "metadata": {},
   "source": [
    "Introduction"
   ]
  },
  {
   "cell_type": "markdown",
   "id": "2a4a1e0d",
   "metadata": {},
   "source": [
    "## Cleaning"
   ]
  },
  {
   "cell_type": "code",
   "execution_count": 2,
   "id": "fe8290be",
   "metadata": {
    "ExecuteTime": {
     "end_time": "2024-07-15T16:10:22.400260Z",
     "start_time": "2024-07-15T16:10:22.395871Z"
    }
   },
   "outputs": [],
   "source": [
    "import pandas as pd\n",
    "import numpy as np\n",
    "import matplotlib.pyplot as plt\n",
    "pd.set_option('display.max_columns', 100)\n",
    "pd.set_option('display.max_rows', 100)"
   ]
  },
  {
   "cell_type": "code",
   "execution_count": 3,
   "id": "ce68b7fb",
   "metadata": {},
   "outputs": [],
   "source": [
    "tracking = []\n",
    "for i in range(1, 10):\n",
    "    tracking.append(pd.read_csv(f\"data/tracking_week_{i}.csv\"))\n",
    "tracking = pd.concat(tracking)\n",
    "tracking.reset_index(drop=True, inplace=True)"
   ]
  },
  {
   "cell_type": "code",
   "execution_count": 4,
   "id": "591992ca",
   "metadata": {
    "scrolled": true
   },
   "outputs": [
    {
     "name": "stdout",
     "output_type": "stream",
     "text": [
      "Games data has been cleaned and memory has been reduced by 2.65625 bytes.\n",
      "Players data has been cleaned and memory has been reduced by 13.1484375 bytes.\n",
      "Plays data has been cleaned and memory has been reduced by 1041.80859375 bytes.\n",
      "Tackles data has been cleaned and memory has been reduced by 476.4921875 bytes.\n",
      "Tracking data has been cleaned and memory has been reduced by 476070.234375 bytes.\n"
     ]
    }
   ],
   "source": [
    "from Cleaning import clean_games_data, clean_plays_data, clean_players_data, \\\n",
    "    clean_tackles_data, clean_tracking_data\n",
    "games = clean_games_data(pd.read_csv(\"data/games.csv\"))\n",
    "players = clean_players_data(pd.read_csv(\"data/players.csv\"))\n",
    "plays = clean_plays_data(pd.read_csv(\"data/plays.csv\"))\n",
    "tackles = clean_tackles_data(pd.read_csv(\"data/tackles.csv\"))\n",
    "tracking = clean_tracking_data(tracking)"
   ]
  },
  {
   "cell_type": "code",
   "execution_count": 5,
   "id": "76ef7351",
   "metadata": {
    "scrolled": true
   },
   "outputs": [
    {
     "name": "stderr",
     "output_type": "stream",
     "text": [
      "  1%|▋                                          | 2/136 [00:02<03:00,  1.35s/it]"
     ]
    },
    {
     "name": "stdout",
     "output_type": "stream",
     "text": [
      "gameId = 2022091103 playId = 4175\n"
     ]
    },
    {
     "name": "stderr",
     "output_type": "stream",
     "text": [
      "\r",
      "  2%|▉                                          | 3/136 [00:03<02:46,  1.25s/it]"
     ]
    },
    {
     "name": "stdout",
     "output_type": "stream",
     "text": [
      "gameId = 2022091111 playId = 770\n"
     ]
    },
    {
     "name": "stderr",
     "output_type": "stream",
     "text": [
      "  7%|██▊                                        | 9/136 [00:11<02:32,  1.20s/it]"
     ]
    },
    {
     "name": "stdout",
     "output_type": "stream",
     "text": [
      "gameId = 2022092511 playId = 3137\n"
     ]
    },
    {
     "name": "stderr",
     "output_type": "stream",
     "text": [
      " 10%|████▎                                     | 14/136 [00:16<02:23,  1.18s/it]"
     ]
    },
    {
     "name": "stdout",
     "output_type": "stream",
     "text": [
      "gameId = 2022102304 playId = 147\n"
     ]
    },
    {
     "name": "stderr",
     "output_type": "stream",
     "text": [
      "\r",
      " 11%|████▋                                     | 15/136 [00:17<02:24,  1.19s/it]"
     ]
    },
    {
     "name": "stdout",
     "output_type": "stream",
     "text": [
      "gameId = 2022102303 playId = 445\n"
     ]
    },
    {
     "name": "stderr",
     "output_type": "stream",
     "text": [
      " 13%|█████▌                                    | 18/136 [00:21<02:19,  1.18s/it]"
     ]
    },
    {
     "name": "stdout",
     "output_type": "stream",
     "text": [
      "gameId = 2022100910 playId = 105\n"
     ]
    },
    {
     "name": "stderr",
     "output_type": "stream",
     "text": [
      " 15%|██████▏                                   | 20/136 [00:24<02:24,  1.25s/it]"
     ]
    },
    {
     "name": "stdout",
     "output_type": "stream",
     "text": [
      "gameId = 2022092504 playId = 2509\n"
     ]
    },
    {
     "name": "stderr",
     "output_type": "stream",
     "text": [
      " 18%|███████▋                                  | 25/136 [00:30<02:14,  1.21s/it]"
     ]
    },
    {
     "name": "stdout",
     "output_type": "stream",
     "text": [
      "gameId = 2022100909 playId = 3674\n"
     ]
    },
    {
     "name": "stderr",
     "output_type": "stream",
     "text": [
      " 20%|████████▎                                 | 27/136 [00:32<02:12,  1.22s/it]"
     ]
    },
    {
     "name": "stdout",
     "output_type": "stream",
     "text": [
      "gameId = 2022100205 playId = 1915\n"
     ]
    },
    {
     "name": "stderr",
     "output_type": "stream",
     "text": [
      "\r",
      " 21%|████████▋                                 | 28/136 [00:33<02:13,  1.23s/it]"
     ]
    },
    {
     "name": "stdout",
     "output_type": "stream",
     "text": [
      "gameId = 2022100900 playId = 441\n"
     ]
    },
    {
     "name": "stderr",
     "output_type": "stream",
     "text": [
      " 22%|█████████▎                                | 30/136 [00:36<02:07,  1.21s/it]"
     ]
    },
    {
     "name": "stdout",
     "output_type": "stream",
     "text": [
      "gameId = 2022100913 playId = 3407\n"
     ]
    },
    {
     "name": "stderr",
     "output_type": "stream",
     "text": [
      "\r",
      " 23%|█████████▌                                | 31/136 [00:37<02:06,  1.20s/it]"
     ]
    },
    {
     "name": "stdout",
     "output_type": "stream",
     "text": [
      "gameId = 2022100202 playId = 567\n"
     ]
    },
    {
     "name": "stderr",
     "output_type": "stream",
     "text": [
      "\r",
      " 24%|█████████▉                                | 32/136 [00:38<02:03,  1.19s/it]"
     ]
    },
    {
     "name": "stdout",
     "output_type": "stream",
     "text": [
      "gameId = 2022091802 playId = 316\n"
     ]
    },
    {
     "name": "stderr",
     "output_type": "stream",
     "text": [
      "\r",
      " 24%|██████████▏                               | 33/136 [00:40<02:08,  1.25s/it]"
     ]
    },
    {
     "name": "stdout",
     "output_type": "stream",
     "text": [
      "gameId = 2022101603 playId = 3511\n"
     ]
    },
    {
     "name": "stderr",
     "output_type": "stream",
     "text": [
      "\r",
      " 25%|██████████▌                               | 34/136 [00:41<02:01,  1.20s/it]"
     ]
    },
    {
     "name": "stdout",
     "output_type": "stream",
     "text": [
      "gameId = 2022101604 playId = 3219\n"
     ]
    },
    {
     "name": "stderr",
     "output_type": "stream",
     "text": [
      " 28%|███████████▋                              | 38/136 [00:46<02:06,  1.29s/it]"
     ]
    },
    {
     "name": "stdout",
     "output_type": "stream",
     "text": [
      "gameId = 2022100600 playId = 4213\n"
     ]
    },
    {
     "name": "stderr",
     "output_type": "stream",
     "text": [
      "\r",
      " 29%|████████████                              | 39/136 [00:47<02:02,  1.26s/it]"
     ]
    },
    {
     "name": "stdout",
     "output_type": "stream",
     "text": [
      "gameId = 2022102400 playId = 3095\n"
     ]
    },
    {
     "name": "stderr",
     "output_type": "stream",
     "text": [
      " 32%|█████████████▎                            | 43/136 [00:52<02:03,  1.32s/it]"
     ]
    },
    {
     "name": "stdout",
     "output_type": "stream",
     "text": [
      "gameId = 2022100911 playId = 703\n"
     ]
    },
    {
     "name": "stderr",
     "output_type": "stream",
     "text": [
      " 34%|██████████████▏                           | 46/136 [00:56<01:56,  1.29s/it]"
     ]
    },
    {
     "name": "stdout",
     "output_type": "stream",
     "text": [
      "gameId = 2022091901 playId = 1108\n"
     ]
    },
    {
     "name": "stderr",
     "output_type": "stream",
     "text": [
      "\r",
      " 35%|██████████████▌                           | 47/136 [00:57<01:52,  1.27s/it]"
     ]
    },
    {
     "name": "stdout",
     "output_type": "stream",
     "text": [
      "gameId = 2022092502 playId = 2795\n"
     ]
    },
    {
     "name": "stderr",
     "output_type": "stream",
     "text": [
      " 37%|███████████████▍                          | 50/136 [01:01<01:43,  1.21s/it]"
     ]
    },
    {
     "name": "stdout",
     "output_type": "stream",
     "text": [
      "gameId = 2022091107 playId = 3933\n"
     ]
    },
    {
     "name": "stderr",
     "output_type": "stream",
     "text": [
      "\r",
      " 38%|███████████████▊                          | 51/136 [01:02<01:40,  1.18s/it]"
     ]
    },
    {
     "name": "stdout",
     "output_type": "stream",
     "text": [
      "gameId = 2022092500 playId = 2194\n"
     ]
    },
    {
     "name": "stderr",
     "output_type": "stream",
     "text": [
      " 40%|████████████████▉                         | 55/136 [01:07<01:39,  1.23s/it]"
     ]
    },
    {
     "name": "stdout",
     "output_type": "stream",
     "text": [
      "gameId = 2022102700 playId = 4249\n"
     ]
    },
    {
     "name": "stderr",
     "output_type": "stream",
     "text": [
      "\r",
      " 41%|█████████████████▎                        | 56/136 [01:08<01:40,  1.26s/it]"
     ]
    },
    {
     "name": "stdout",
     "output_type": "stream",
     "text": [
      "gameId = 2022092200 playId = 465\n"
     ]
    },
    {
     "name": "stderr",
     "output_type": "stream",
     "text": [
      " 43%|██████████████████▏                       | 59/136 [01:12<01:36,  1.25s/it]"
     ]
    },
    {
     "name": "stdout",
     "output_type": "stream",
     "text": [
      "gameId = 2022110610 playId = 3289\n"
     ]
    },
    {
     "name": "stderr",
     "output_type": "stream",
     "text": [
      "\r",
      " 44%|██████████████████▌                       | 60/136 [01:13<01:34,  1.24s/it]"
     ]
    },
    {
     "name": "stdout",
     "output_type": "stream",
     "text": [
      "gameId = 2022092510 playId = 55\n"
     ]
    },
    {
     "name": "stderr",
     "output_type": "stream",
     "text": [
      "\r",
      " 45%|██████████████████▊                       | 61/136 [01:14<01:30,  1.21s/it]"
     ]
    },
    {
     "name": "stdout",
     "output_type": "stream",
     "text": [
      "gameId = 2022091200 playId = 3467\n"
     ]
    },
    {
     "name": "stderr",
     "output_type": "stream",
     "text": [
      "\r",
      " 46%|███████████████████▏                      | 62/136 [01:15<01:23,  1.13s/it]"
     ]
    },
    {
     "name": "stdout",
     "output_type": "stream",
     "text": [
      "gameId = 2022100206 playId = 1490\n"
     ]
    },
    {
     "name": "stderr",
     "output_type": "stream",
     "text": [
      " 47%|███████████████████▊                      | 64/136 [01:18<01:31,  1.27s/it]"
     ]
    },
    {
     "name": "stdout",
     "output_type": "stream",
     "text": [
      "gameId = 2022091801 playId = 3710\n"
     ]
    },
    {
     "name": "stderr",
     "output_type": "stream",
     "text": [
      " 49%|████████████████████▋                     | 67/136 [01:22<01:24,  1.23s/it]"
     ]
    },
    {
     "name": "stdout",
     "output_type": "stream",
     "text": [
      "gameId = 2022101000 playId = 1667\n"
     ]
    },
    {
     "name": "stderr",
     "output_type": "stream",
     "text": [
      " 54%|██████████████████████▊                   | 74/136 [01:30<01:13,  1.18s/it]"
     ]
    },
    {
     "name": "stdout",
     "output_type": "stream",
     "text": [
      "gameId = 2022102301 playId = 2597\n"
     ]
    },
    {
     "name": "stderr",
     "output_type": "stream",
     "text": [
      "\r",
      " 55%|███████████████████████▏                  | 75/136 [01:31<01:16,  1.25s/it]"
     ]
    },
    {
     "name": "stdout",
     "output_type": "stream",
     "text": [
      "gameId = 2022103005 playId = 1086\n"
     ]
    },
    {
     "name": "stderr",
     "output_type": "stream",
     "text": [
      " 60%|█████████████████████████▎                | 82/136 [01:40<01:10,  1.31s/it]"
     ]
    },
    {
     "name": "stdout",
     "output_type": "stream",
     "text": [
      "gameId = 2022091105 playId = 315\n"
     ]
    },
    {
     "name": "stderr",
     "output_type": "stream",
     "text": [
      "\r",
      " 61%|█████████████████████████▋                | 83/136 [01:42<01:10,  1.32s/it]"
     ]
    },
    {
     "name": "stdout",
     "output_type": "stream",
     "text": [
      "gameId = 2022103002 playId = 1431\n"
     ]
    },
    {
     "name": "stderr",
     "output_type": "stream",
     "text": [
      "\r",
      " 62%|█████████████████████████▉                | 84/136 [01:43<01:06,  1.28s/it]"
     ]
    },
    {
     "name": "stdout",
     "output_type": "stream",
     "text": [
      "gameId = 2022091806 playId = 554\n"
     ]
    },
    {
     "name": "stderr",
     "output_type": "stream",
     "text": [
      " 65%|███████████████████████████▏              | 88/136 [01:48<00:59,  1.23s/it]"
     ]
    },
    {
     "name": "stdout",
     "output_type": "stream",
     "text": [
      "gameId = 2022091800 playId = 1459\n"
     ]
    },
    {
     "name": "stderr",
     "output_type": "stream",
     "text": [
      " 67%|████████████████████████████              | 91/136 [01:51<00:54,  1.22s/it]"
     ]
    },
    {
     "name": "stdout",
     "output_type": "stream",
     "text": [
      "gameId = 2022100905 playId = 3407\n"
     ]
    },
    {
     "name": "stderr",
     "output_type": "stream",
     "text": [
      " 69%|█████████████████████████████             | 94/136 [01:55<00:51,  1.23s/it]"
     ]
    },
    {
     "name": "stdout",
     "output_type": "stream",
     "text": [
      "gameId = 2022102000 playId = 3887\n"
     ]
    },
    {
     "name": "stderr",
     "output_type": "stream",
     "text": [
      "\r",
      " 70%|█████████████████████████████▎            | 95/136 [01:56<00:51,  1.25s/it]"
     ]
    },
    {
     "name": "stdout",
     "output_type": "stream",
     "text": [
      "gameId = 2022100903 playId = 730\n"
     ]
    },
    {
     "name": "stderr",
     "output_type": "stream",
     "text": [
      "\r",
      " 71%|█████████████████████████████▋            | 96/136 [01:58<00:51,  1.28s/it]"
     ]
    },
    {
     "name": "stdout",
     "output_type": "stream",
     "text": [
      "gameId = 2022100213 playId = 811\n"
     ]
    },
    {
     "name": "stderr",
     "output_type": "stream",
     "text": [
      "\r",
      " 71%|█████████████████████████████▉            | 97/136 [01:59<00:49,  1.27s/it]"
     ]
    },
    {
     "name": "stdout",
     "output_type": "stream",
     "text": [
      "gameId = 2022092508 playId = 1650\n"
     ]
    },
    {
     "name": "stderr",
     "output_type": "stream",
     "text": [
      " 74%|██████████████████████████████▍          | 101/136 [02:04<00:42,  1.22s/it]"
     ]
    },
    {
     "name": "stdout",
     "output_type": "stream",
     "text": [
      "gameId = 2022101606 playId = 2544\n"
     ]
    },
    {
     "name": "stderr",
     "output_type": "stream",
     "text": [
      "\r",
      " 75%|██████████████████████████████▊          | 102/136 [02:05<00:42,  1.26s/it]"
     ]
    },
    {
     "name": "stdout",
     "output_type": "stream",
     "text": [
      "gameId = 2022100904 playId = 1993\n"
     ]
    },
    {
     "name": "stderr",
     "output_type": "stream",
     "text": [
      " 79%|████████████████████████████████▌        | 108/136 [02:12<00:34,  1.23s/it]"
     ]
    },
    {
     "name": "stdout",
     "output_type": "stream",
     "text": [
      "gameId = 2022103007 playId = 3923\n"
     ]
    },
    {
     "name": "stderr",
     "output_type": "stream",
     "text": [
      "\r",
      " 80%|████████████████████████████████▊        | 109/136 [02:13<00:32,  1.21s/it]"
     ]
    },
    {
     "name": "stdout",
     "output_type": "stream",
     "text": [
      "gameId = 2022103012 playId = 2024\n"
     ]
    },
    {
     "name": "stderr",
     "output_type": "stream",
     "text": [
      "\r",
      " 81%|█████████████████████████████████▏       | 110/136 [02:15<00:32,  1.23s/it]"
     ]
    },
    {
     "name": "stdout",
     "output_type": "stream",
     "text": [
      "gameId = 2022091110 playId = 2925\n"
     ]
    },
    {
     "name": "stderr",
     "output_type": "stream",
     "text": [
      "\r",
      " 82%|█████████████████████████████████▍       | 111/136 [02:16<00:30,  1.22s/it]"
     ]
    },
    {
     "name": "stdout",
     "output_type": "stream",
     "text": [
      "gameId = 2022100907 playId = 3665\n"
     ]
    },
    {
     "name": "stderr",
     "output_type": "stream",
     "text": [
      "\r",
      " 82%|█████████████████████████████████▊       | 112/136 [02:17<00:29,  1.23s/it]"
     ]
    },
    {
     "name": "stdout",
     "output_type": "stream",
     "text": [
      "gameId = 2022101610 playId = 129\n"
     ]
    },
    {
     "name": "stderr",
     "output_type": "stream",
     "text": [
      " 85%|██████████████████████████████████▋      | 115/136 [02:21<00:26,  1.24s/it]"
     ]
    },
    {
     "name": "stdout",
     "output_type": "stream",
     "text": [
      "gameId = 2022092509 playId = 1212\n"
     ]
    },
    {
     "name": "stderr",
     "output_type": "stream",
     "text": [
      " 88%|████████████████████████████████████▏    | 120/136 [02:27<00:19,  1.19s/it]"
     ]
    },
    {
     "name": "stdout",
     "output_type": "stream",
     "text": [
      "gameId = 2022091803 playId = 2993\n"
     ]
    },
    {
     "name": "stderr",
     "output_type": "stream",
     "text": [
      " 93%|██████████████████████████████████████▎  | 127/136 [02:35<00:10,  1.20s/it]"
     ]
    },
    {
     "name": "stdout",
     "output_type": "stream",
     "text": [
      "gameId = 2022092507 playId = 310\n"
     ]
    },
    {
     "name": "stderr",
     "output_type": "stream",
     "text": [
      "\r",
      " 94%|██████████████████████████████████████▌  | 128/136 [02:36<00:09,  1.20s/it]"
     ]
    },
    {
     "name": "stdout",
     "output_type": "stream",
     "text": [
      "gameId = 2022103008 playId = 1912\n"
     ]
    },
    {
     "name": "stderr",
     "output_type": "stream",
     "text": [
      "\r",
      " 95%|██████████████████████████████████████▉  | 129/136 [02:38<00:08,  1.27s/it]"
     ]
    },
    {
     "name": "stdout",
     "output_type": "stream",
     "text": [
      "gameId = 2022110600 playId = 2117\n"
     ]
    },
    {
     "name": "stderr",
     "output_type": "stream",
     "text": [
      "\r",
      " 96%|███████████████████████████████████████▏ | 130/136 [02:39<00:07,  1.28s/it]"
     ]
    },
    {
     "name": "stdout",
     "output_type": "stream",
     "text": [
      "gameId = 2022092506 playId = 545\n"
     ]
    },
    {
     "name": "stderr",
     "output_type": "stream",
     "text": [
      "\r",
      " 96%|███████████████████████████████████████▍ | 131/136 [02:40<00:06,  1.32s/it]"
     ]
    },
    {
     "name": "stdout",
     "output_type": "stream",
     "text": [
      "gameId = 2022101600 playId = 465\n"
     ]
    },
    {
     "name": "stderr",
     "output_type": "stream",
     "text": [
      "\r",
      " 97%|███████████████████████████████████████▊ | 132/136 [02:42<00:05,  1.31s/it]"
     ]
    },
    {
     "name": "stdout",
     "output_type": "stream",
     "text": [
      "gameId = 2022100210 playId = 144\n"
     ]
    },
    {
     "name": "stderr",
     "output_type": "stream",
     "text": [
      "\r",
      " 98%|████████████████████████████████████████ | 133/136 [02:43<00:03,  1.30s/it]"
     ]
    },
    {
     "name": "stdout",
     "output_type": "stream",
     "text": [
      "gameId = 2022091809 playId = 98\n"
     ]
    },
    {
     "name": "stderr",
     "output_type": "stream",
     "text": [
      "100%|█████████████████████████████████████████| 136/136 [02:47<00:00,  1.23s/it]\n"
     ]
    },
    {
     "name": "stdout",
     "output_type": "stream",
     "text": [
      "Removed 57 plays that do not have tracking at the snap of the ball.\n"
     ]
    },
    {
     "name": "stderr",
     "output_type": "stream",
     "text": [
      "100%|█████████████████████████████████████████| 136/136 [02:47<00:00,  1.23s/it]"
     ]
    },
    {
     "name": "stdout",
     "output_type": "stream",
     "text": [
      "Removed 136 plays that do not have tracking for the end of the play.\n"
     ]
    },
    {
     "name": "stderr",
     "output_type": "stream",
     "text": [
      "\n"
     ]
    }
   ],
   "source": [
    "from Cleaning import check_for_snap, check_for_end\n",
    "full_plays = check_for_snap(plays, tracking)\n",
    "full_plays = check_for_end(full_plays, tracking)"
   ]
  },
  {
   "cell_type": "markdown",
   "id": "7870b2e7",
   "metadata": {},
   "source": [
    "## Feature Engineering"
   ]
  },
  {
   "cell_type": "code",
   "execution_count": 9,
   "id": "9fe99380",
   "metadata": {},
   "outputs": [
    {
     "ename": "KeyError",
     "evalue": "\"['influence_degree_football'] not found in axis\"",
     "output_type": "error",
     "traceback": [
      "\u001b[0;31m---------------------------------------------------------------------------\u001b[0m",
      "\u001b[0;31mKeyError\u001b[0m                                  Traceback (most recent call last)",
      "Cell \u001b[0;32mIn[9], line 10\u001b[0m\n\u001b[1;32m      8\u001b[0m full_tracking \u001b[38;5;241m=\u001b[39m create_acceleration_vectors(full_tracking)\n\u001b[1;32m      9\u001b[0m full_tracking \u001b[38;5;241m=\u001b[39m create_velocity_vectors(full_tracking)\n\u001b[0;32m---> 10\u001b[0m full_tracking \u001b[38;5;241m=\u001b[39m create_player_influence(full_tracking)\n\u001b[1;32m     11\u001b[0m full_tracking \u001b[38;5;241m=\u001b[39m create_distance_to_ball(full_tracking)\n",
      "File \u001b[0;32m~/projects/DataScience/NFL/Preprocessing.py:104\u001b[0m, in \u001b[0;36mcreate_player_influence\u001b[0;34m(tracking)\u001b[0m\n\u001b[1;32m    101\u001b[0m football_and_player_tracking[\u001b[38;5;124m'\u001b[39m\u001b[38;5;124minfluence_degree\u001b[39m\u001b[38;5;124m'\u001b[39m] \u001b[38;5;241m=\u001b[39m football_and_player_tracking\u001b[38;5;241m.\u001b[39mapply(_calculate_influence, axis\u001b[38;5;241m=\u001b[39m\u001b[38;5;241m1\u001b[39m)\n\u001b[1;32m    103\u001b[0m \u001b[38;5;66;03m# \"Unmerge\" the columns to get rid of the redundant football data\u001b[39;00m\n\u001b[0;32m--> 104\u001b[0m football_and_player_tracking \u001b[38;5;241m=\u001b[39m football_and_player_tracking\u001b[38;5;241m.\u001b[39mdrop(columns\u001b[38;5;241m=\u001b[39m[\u001b[38;5;124m'\u001b[39m\u001b[38;5;124mnflId_football\u001b[39m\u001b[38;5;124m'\u001b[39m, \u001b[38;5;124m'\u001b[39m\u001b[38;5;124mdisplayName_football\u001b[39m\u001b[38;5;124m'\u001b[39m,\n\u001b[1;32m    105\u001b[0m                                                                           \u001b[38;5;124m'\u001b[39m\u001b[38;5;124mjerseyNumber_football\u001b[39m\u001b[38;5;124m'\u001b[39m, \u001b[38;5;124m'\u001b[39m\u001b[38;5;124mclub_football\u001b[39m\u001b[38;5;124m'\u001b[39m,\n\u001b[1;32m    106\u001b[0m                                                                           \u001b[38;5;124m'\u001b[39m\u001b[38;5;124mx_football\u001b[39m\u001b[38;5;124m'\u001b[39m, \u001b[38;5;124m'\u001b[39m\u001b[38;5;124my_football\u001b[39m\u001b[38;5;124m'\u001b[39m, \u001b[38;5;124m'\u001b[39m\u001b[38;5;124ms_football\u001b[39m\u001b[38;5;124m'\u001b[39m,\n\u001b[1;32m    107\u001b[0m                                                                           \u001b[38;5;124m'\u001b[39m\u001b[38;5;124ma_football\u001b[39m\u001b[38;5;124m'\u001b[39m, \u001b[38;5;124m'\u001b[39m\u001b[38;5;124mdis_football\u001b[39m\u001b[38;5;124m'\u001b[39m,\n\u001b[1;32m    108\u001b[0m                                                                           \u001b[38;5;124m'\u001b[39m\u001b[38;5;124mo_football\u001b[39m\u001b[38;5;124m'\u001b[39m, \u001b[38;5;124m'\u001b[39m\u001b[38;5;124mdir_football\u001b[39m\u001b[38;5;124m'\u001b[39m,\n\u001b[1;32m    109\u001b[0m                                                                           \u001b[38;5;124m'\u001b[39m\u001b[38;5;124mevent_football\u001b[39m\u001b[38;5;124m'\u001b[39m, \u001b[38;5;124m'\u001b[39m\u001b[38;5;124mdir_rad_football\u001b[39m\u001b[38;5;124m'\u001b[39m,\n\u001b[1;32m    110\u001b[0m                                                                           \u001b[38;5;124m'\u001b[39m\u001b[38;5;124mx_acceleration_component_football\u001b[39m\u001b[38;5;124m'\u001b[39m,\n\u001b[1;32m    111\u001b[0m                                                                           \u001b[38;5;124m'\u001b[39m\u001b[38;5;124my_acceleration_component_football\u001b[39m\u001b[38;5;124m'\u001b[39m,\n\u001b[1;32m    112\u001b[0m                                                                           \u001b[38;5;124m'\u001b[39m\u001b[38;5;124mx_velocity_component_football\u001b[39m\u001b[38;5;124m'\u001b[39m,\n\u001b[1;32m    113\u001b[0m                                                                           \u001b[38;5;124m'\u001b[39m\u001b[38;5;124my_velocity_component_football\u001b[39m\u001b[38;5;124m'\u001b[39m,\n\u001b[1;32m    114\u001b[0m                                                                           \u001b[38;5;124m'\u001b[39m\u001b[38;5;124minfluence_degree_football\u001b[39m\u001b[38;5;124m'\u001b[39m])\n\u001b[1;32m    116\u001b[0m \u001b[38;5;66;03m# Renaming columns to remove the _player suffix\u001b[39;00m\n\u001b[1;32m    117\u001b[0m football_and_player_tracking \u001b[38;5;241m=\u001b[39m football_and_player_tracking\u001b[38;5;241m.\u001b[39mrename(columns\u001b[38;5;241m=\u001b[39m{\n\u001b[1;32m    118\u001b[0m     \u001b[38;5;124m'\u001b[39m\u001b[38;5;124mnflId_player\u001b[39m\u001b[38;5;124m'\u001b[39m: \u001b[38;5;124m'\u001b[39m\u001b[38;5;124mnflId\u001b[39m\u001b[38;5;124m'\u001b[39m,\n\u001b[1;32m    119\u001b[0m     \u001b[38;5;124m'\u001b[39m\u001b[38;5;124mdisplayName_player\u001b[39m\u001b[38;5;124m'\u001b[39m: \u001b[38;5;124m'\u001b[39m\u001b[38;5;124mdisplayName\u001b[39m\u001b[38;5;124m'\u001b[39m,\n\u001b[0;32m   (...)\u001b[0m\n\u001b[1;32m    135\u001b[0m     \u001b[38;5;124m'\u001b[39m\u001b[38;5;124minfluence_degree_player\u001b[39m\u001b[38;5;124m'\u001b[39m: \u001b[38;5;124m'\u001b[39m\u001b[38;5;124minfluence_degree\u001b[39m\u001b[38;5;124m'\u001b[39m\n\u001b[1;32m    136\u001b[0m })\n",
      "File \u001b[0;32m~/anaconda3/lib/python3.11/site-packages/pandas/core/frame.py:5258\u001b[0m, in \u001b[0;36mDataFrame.drop\u001b[0;34m(self, labels, axis, index, columns, level, inplace, errors)\u001b[0m\n\u001b[1;32m   5110\u001b[0m \u001b[38;5;28;01mdef\u001b[39;00m \u001b[38;5;21mdrop\u001b[39m(\n\u001b[1;32m   5111\u001b[0m     \u001b[38;5;28mself\u001b[39m,\n\u001b[1;32m   5112\u001b[0m     labels: IndexLabel \u001b[38;5;241m=\u001b[39m \u001b[38;5;28;01mNone\u001b[39;00m,\n\u001b[0;32m   (...)\u001b[0m\n\u001b[1;32m   5119\u001b[0m     errors: IgnoreRaise \u001b[38;5;241m=\u001b[39m \u001b[38;5;124m\"\u001b[39m\u001b[38;5;124mraise\u001b[39m\u001b[38;5;124m\"\u001b[39m,\n\u001b[1;32m   5120\u001b[0m ) \u001b[38;5;241m-\u001b[39m\u001b[38;5;241m>\u001b[39m DataFrame \u001b[38;5;241m|\u001b[39m \u001b[38;5;28;01mNone\u001b[39;00m:\n\u001b[1;32m   5121\u001b[0m \u001b[38;5;250m    \u001b[39m\u001b[38;5;124;03m\"\"\"\u001b[39;00m\n\u001b[1;32m   5122\u001b[0m \u001b[38;5;124;03m    Drop specified labels from rows or columns.\u001b[39;00m\n\u001b[1;32m   5123\u001b[0m \n\u001b[0;32m   (...)\u001b[0m\n\u001b[1;32m   5256\u001b[0m \u001b[38;5;124;03m            weight  1.0     0.8\u001b[39;00m\n\u001b[1;32m   5257\u001b[0m \u001b[38;5;124;03m    \"\"\"\u001b[39;00m\n\u001b[0;32m-> 5258\u001b[0m     \u001b[38;5;28;01mreturn\u001b[39;00m \u001b[38;5;28msuper\u001b[39m()\u001b[38;5;241m.\u001b[39mdrop(\n\u001b[1;32m   5259\u001b[0m         labels\u001b[38;5;241m=\u001b[39mlabels,\n\u001b[1;32m   5260\u001b[0m         axis\u001b[38;5;241m=\u001b[39maxis,\n\u001b[1;32m   5261\u001b[0m         index\u001b[38;5;241m=\u001b[39mindex,\n\u001b[1;32m   5262\u001b[0m         columns\u001b[38;5;241m=\u001b[39mcolumns,\n\u001b[1;32m   5263\u001b[0m         level\u001b[38;5;241m=\u001b[39mlevel,\n\u001b[1;32m   5264\u001b[0m         inplace\u001b[38;5;241m=\u001b[39minplace,\n\u001b[1;32m   5265\u001b[0m         errors\u001b[38;5;241m=\u001b[39merrors,\n\u001b[1;32m   5266\u001b[0m     )\n",
      "File \u001b[0;32m~/anaconda3/lib/python3.11/site-packages/pandas/core/generic.py:4549\u001b[0m, in \u001b[0;36mNDFrame.drop\u001b[0;34m(self, labels, axis, index, columns, level, inplace, errors)\u001b[0m\n\u001b[1;32m   4547\u001b[0m \u001b[38;5;28;01mfor\u001b[39;00m axis, labels \u001b[38;5;129;01min\u001b[39;00m axes\u001b[38;5;241m.\u001b[39mitems():\n\u001b[1;32m   4548\u001b[0m     \u001b[38;5;28;01mif\u001b[39;00m labels \u001b[38;5;129;01mis\u001b[39;00m \u001b[38;5;129;01mnot\u001b[39;00m \u001b[38;5;28;01mNone\u001b[39;00m:\n\u001b[0;32m-> 4549\u001b[0m         obj \u001b[38;5;241m=\u001b[39m obj\u001b[38;5;241m.\u001b[39m_drop_axis(labels, axis, level\u001b[38;5;241m=\u001b[39mlevel, errors\u001b[38;5;241m=\u001b[39merrors)\n\u001b[1;32m   4551\u001b[0m \u001b[38;5;28;01mif\u001b[39;00m inplace:\n\u001b[1;32m   4552\u001b[0m     \u001b[38;5;28mself\u001b[39m\u001b[38;5;241m.\u001b[39m_update_inplace(obj)\n",
      "File \u001b[0;32m~/anaconda3/lib/python3.11/site-packages/pandas/core/generic.py:4591\u001b[0m, in \u001b[0;36mNDFrame._drop_axis\u001b[0;34m(self, labels, axis, level, errors, only_slice)\u001b[0m\n\u001b[1;32m   4589\u001b[0m         new_axis \u001b[38;5;241m=\u001b[39m axis\u001b[38;5;241m.\u001b[39mdrop(labels, level\u001b[38;5;241m=\u001b[39mlevel, errors\u001b[38;5;241m=\u001b[39merrors)\n\u001b[1;32m   4590\u001b[0m     \u001b[38;5;28;01melse\u001b[39;00m:\n\u001b[0;32m-> 4591\u001b[0m         new_axis \u001b[38;5;241m=\u001b[39m axis\u001b[38;5;241m.\u001b[39mdrop(labels, errors\u001b[38;5;241m=\u001b[39merrors)\n\u001b[1;32m   4592\u001b[0m     indexer \u001b[38;5;241m=\u001b[39m axis\u001b[38;5;241m.\u001b[39mget_indexer(new_axis)\n\u001b[1;32m   4594\u001b[0m \u001b[38;5;66;03m# Case for non-unique axis\u001b[39;00m\n\u001b[1;32m   4595\u001b[0m \u001b[38;5;28;01melse\u001b[39;00m:\n",
      "File \u001b[0;32m~/anaconda3/lib/python3.11/site-packages/pandas/core/indexes/base.py:6699\u001b[0m, in \u001b[0;36mIndex.drop\u001b[0;34m(self, labels, errors)\u001b[0m\n\u001b[1;32m   6697\u001b[0m \u001b[38;5;28;01mif\u001b[39;00m mask\u001b[38;5;241m.\u001b[39many():\n\u001b[1;32m   6698\u001b[0m     \u001b[38;5;28;01mif\u001b[39;00m errors \u001b[38;5;241m!=\u001b[39m \u001b[38;5;124m\"\u001b[39m\u001b[38;5;124mignore\u001b[39m\u001b[38;5;124m\"\u001b[39m:\n\u001b[0;32m-> 6699\u001b[0m         \u001b[38;5;28;01mraise\u001b[39;00m \u001b[38;5;167;01mKeyError\u001b[39;00m(\u001b[38;5;124mf\u001b[39m\u001b[38;5;124m\"\u001b[39m\u001b[38;5;132;01m{\u001b[39;00m\u001b[38;5;28mlist\u001b[39m(labels[mask])\u001b[38;5;132;01m}\u001b[39;00m\u001b[38;5;124m not found in axis\u001b[39m\u001b[38;5;124m\"\u001b[39m)\n\u001b[1;32m   6700\u001b[0m     indexer \u001b[38;5;241m=\u001b[39m indexer[\u001b[38;5;241m~\u001b[39mmask]\n\u001b[1;32m   6701\u001b[0m \u001b[38;5;28;01mreturn\u001b[39;00m \u001b[38;5;28mself\u001b[39m\u001b[38;5;241m.\u001b[39mdelete(indexer)\n",
      "\u001b[0;31mKeyError\u001b[0m: \"['influence_degree_football'] not found in axis\""
     ]
    }
   ],
   "source": [
    "# Make all the plays go from left to right to remove the variablilty it may cause\n",
    "from Preprocessing import all_plays_left_to_right\n",
    "from Preprocessing import create_acceleration_vectors, create_velocity_vectors, create_player_influence, \\\n",
    "    create_distance_to_ball\n",
    "\n",
    "full_plays, full_tracking = all_plays_left_to_right(plays, tracking)\n",
    "\n",
    "full_tracking = create_acceleration_vectors(full_tracking)\n",
    "full_tracking = create_velocity_vectors(full_tracking)\n",
    "full_tracking = create_player_influence(full_tracking)\n",
    "full_tracking = create_distance_to_ball(full_tracking)"
   ]
  },
  {
   "cell_type": "code",
   "execution_count": null,
   "id": "bf79dfd6",
   "metadata": {},
   "outputs": [],
   "source": [
    "from Visualizations import animate_play\n",
    "\n",
    "animate_play(games, full_plays, full_tracking, gameId=2022090800, playId=56, acceleration=True, velocity=True)"
   ]
  },
  {
   "cell_type": "code",
   "execution_count": 8,
   "id": "72db75c1",
   "metadata": {},
   "outputs": [
    {
     "data": {
      "text/html": [
       "<div>\n",
       "<style scoped>\n",
       "    .dataframe tbody tr th:only-of-type {\n",
       "        vertical-align: middle;\n",
       "    }\n",
       "\n",
       "    .dataframe tbody tr th {\n",
       "        vertical-align: top;\n",
       "    }\n",
       "\n",
       "    .dataframe thead th {\n",
       "        text-align: right;\n",
       "    }\n",
       "</style>\n",
       "<table border=\"1\" class=\"dataframe\">\n",
       "  <thead>\n",
       "    <tr style=\"text-align: right;\">\n",
       "      <th></th>\n",
       "      <th>gameId</th>\n",
       "      <th>playId</th>\n",
       "      <th>ballCarrierId</th>\n",
       "      <th>ballCarrierDisplayName</th>\n",
       "      <th>playDescription</th>\n",
       "      <th>quarter</th>\n",
       "      <th>down</th>\n",
       "      <th>yardsToGo</th>\n",
       "      <th>possessionTeam</th>\n",
       "      <th>defensiveTeam</th>\n",
       "      <th>yardlineSide</th>\n",
       "      <th>yardlineNumber</th>\n",
       "      <th>gameClock</th>\n",
       "      <th>preSnapHomeScore</th>\n",
       "      <th>preSnapVisitorScore</th>\n",
       "      <th>passResult</th>\n",
       "      <th>passLength</th>\n",
       "      <th>penaltyYards</th>\n",
       "      <th>prePenaltyPlayResult</th>\n",
       "      <th>playResult</th>\n",
       "      <th>playNullifiedByPenalty</th>\n",
       "      <th>absoluteYardlineNumber</th>\n",
       "      <th>offenseFormation</th>\n",
       "      <th>defendersInTheBox</th>\n",
       "      <th>passProbability</th>\n",
       "      <th>preSnapHomeTeamWinProbability</th>\n",
       "      <th>preSnapVisitorTeamWinProbability</th>\n",
       "      <th>homeTeamWinProbabilityAdded</th>\n",
       "      <th>visitorTeamWinProbilityAdded</th>\n",
       "      <th>expectedPoints</th>\n",
       "      <th>expectedPointsAdded</th>\n",
       "      <th>foulName1</th>\n",
       "      <th>foulName2</th>\n",
       "      <th>foulNFLId1</th>\n",
       "      <th>foulNFLId2</th>\n",
       "    </tr>\n",
       "  </thead>\n",
       "  <tbody>\n",
       "  </tbody>\n",
       "</table>\n",
       "</div>"
      ],
      "text/plain": [
       "Empty DataFrame\n",
       "Columns: [gameId, playId, ballCarrierId, ballCarrierDisplayName, playDescription, quarter, down, yardsToGo, possessionTeam, defensiveTeam, yardlineSide, yardlineNumber, gameClock, preSnapHomeScore, preSnapVisitorScore, passResult, passLength, penaltyYards, prePenaltyPlayResult, playResult, playNullifiedByPenalty, absoluteYardlineNumber, offenseFormation, defendersInTheBox, passProbability, preSnapHomeTeamWinProbability, preSnapVisitorTeamWinProbability, homeTeamWinProbabilityAdded, visitorTeamWinProbilityAdded, expectedPoints, expectedPointsAdded, foulName1, foulName2, foulNFLId1, foulNFLId2]\n",
       "Index: []"
      ]
     },
     "execution_count": 8,
     "metadata": {},
     "output_type": "execute_result"
    }
   ],
   "source": [
    "full_plays.query('gameId == 2022090800 and playId == 56')"
   ]
  },
  {
   "cell_type": "code",
   "execution_count": null,
   "id": "ce69da7d",
   "metadata": {
    "ExecuteTime": {
     "end_time": "2024-07-15T16:10:27.240416Z",
     "start_time": "2024-07-15T16:10:26.786418Z"
    }
   },
   "outputs": [],
   "source": [
    "data = pd.merge(plays, tracking, on = [\"gameId\", \"playId\"])"
   ]
  },
  {
   "cell_type": "markdown",
   "id": "421d4783",
   "metadata": {},
   "source": [
    "Finding who made the tackle on this play"
   ]
  },
  {
   "cell_type": "markdown",
   "id": "9c4feb9e",
   "metadata": {},
   "source": [
    "Show the movement of the players during the play"
   ]
  },
  {
   "cell_type": "code",
   "execution_count": null,
   "id": "65aadfdc",
   "metadata": {
    "ExecuteTime": {
     "end_time": "2024-07-15T16:10:34.813373Z",
     "start_time": "2024-07-15T16:10:34.810190Z"
    },
    "scrolled": true
   },
   "outputs": [],
   "source": [
    "# Make a more customized version in plotly"
   ]
  },
  {
   "cell_type": "code",
   "execution_count": null,
   "id": "b9b61957dfeb2cde",
   "metadata": {
    "ExecuteTime": {
     "end_time": "2024-07-15T16:10:35.532709Z",
     "start_time": "2024-07-15T16:10:35.521967Z"
    }
   },
   "outputs": [],
   "source": [
    "exampleFrame = data.query('gameId == 2022091103 and '\n",
    "           'playId == 3126 and '\n",
    "           'frameId == 20')"
   ]
  },
  {
   "cell_type": "code",
   "execution_count": null,
   "id": "b49a672950f02b9d",
   "metadata": {
    "ExecuteTime": {
     "end_time": "2024-07-15T16:11:07.264546Z",
     "start_time": "2024-07-15T16:11:06.974582Z"
    },
    "scrolled": false
   },
   "outputs": [],
   "source": [
    "from Visualizations import animate_play\n",
    "animate_play(games, full_plays, full_tracking, gameId=2022091103, playId=3126, velocity=True)"
   ]
  },
  {
   "cell_type": "code",
   "execution_count": null,
   "id": "6a394c71",
   "metadata": {
    "ExecuteTime": {
     "end_time": "2024-06-21T17:02:08.761678Z",
     "start_time": "2024-06-21T17:02:08.751290Z"
    }
   },
   "outputs": [],
   "source": [
    "play = data[(data['gameId'] == 2022090800) & (data['playId'] == 80)]"
   ]
  },
  {
   "cell_type": "code",
   "execution_count": null,
   "id": "84905607",
   "metadata": {
    "ExecuteTime": {
     "end_time": "2024-06-21T17:02:40.164714Z",
     "start_time": "2024-06-21T17:02:40.149682Z"
    }
   },
   "outputs": [],
   "source": [
    "playerData = data[(data['gameId'] == 2022090800) & (data['playId'] == 56) & (data['nflId'] == 35472)]"
   ]
  },
  {
   "cell_type": "markdown",
   "id": "5ab3da44",
   "metadata": {},
   "source": [
    "Find the relationship between the player and the ball at all times."
   ]
  },
  {
   "cell_type": "code",
   "execution_count": null,
   "id": "6e54efe1",
   "metadata": {
    "ExecuteTime": {
     "end_time": "2024-06-21T14:50:41.544975Z",
     "start_time": "2024-06-21T14:50:41.540928Z"
    },
    "scrolled": true
   },
   "outputs": [],
   "source": [
    "football = play[play['club'] == 'football']\n",
    "\n",
    "footballAndPlayer = pd.merge(football, play, on = ['gameId', 'playId', 'ballCarrierId', 'ballCarrierDisplayName',\n",
    "       'playDescription', 'quarter', 'down', 'yardsToGo', 'possessionTeam',\n",
    "       'defensiveTeam', 'yardlineSide', 'yardlineNumber', 'gameClock',\n",
    "       'preSnapHomeScore', 'preSnapVisitorScore', 'passResult', 'passLength',\n",
    "       'penaltyYards', 'prePenaltyPlayResult', 'playResult',\n",
    "       'playNullifiedByPenalty', 'absoluteYardlineNumber', 'offenseFormation',\n",
    "       'defendersInTheBox', 'passProbability', 'preSnapHomeTeamWinProbability',\n",
    "       'preSnapVisitorTeamWinProbability', 'homeTeamWinProbabilityAdded',\n",
    "       'visitorTeamWinProbilityAdded', 'expectedPoints', 'expectedPointsAdded',\n",
    "       'foulName1', 'foulName2', 'foulNFLId1', 'foulNFLId2',\n",
    "        'frameId', 'time',\n",
    "       'playDirection','event'], suffixes=('_football', '_player'))"
   ]
  },
  {
   "cell_type": "code",
   "execution_count": null,
   "id": "66b31465",
   "metadata": {},
   "outputs": [],
   "source": [
    "footballAndPlayer"
   ]
  },
  {
   "cell_type": "code",
   "execution_count": null,
   "id": "d5a5f476",
   "metadata": {
    "ExecuteTime": {
     "end_time": "2024-06-21T14:50:42.356787Z",
     "start_time": "2024-06-21T14:50:42.351572Z"
    }
   },
   "outputs": [],
   "source": [
    "footballAndPlayer['distanceFromBall'] = np.sqrt((footballAndPlayer['x_x'] - footballAndPlayer['x_y'])**2 + (footballAndPlayer['y_x'] - footballAndPlayer['y_y'])**2)"
   ]
  },
  {
   "cell_type": "markdown",
   "id": "c4780323",
   "metadata": {},
   "source": [
    "Find the distance between the players and the ball at all times"
   ]
  },
  {
   "cell_type": "code",
   "execution_count": null,
   "id": "f859c32b",
   "metadata": {
    "ExecuteTime": {
     "end_time": "2024-06-21T14:50:43.605077Z",
     "start_time": "2024-06-21T14:50:43.602564Z"
    }
   },
   "outputs": [],
   "source": [
    "defense = footballAndPlayer[footballAndPlayer['club_y'] == footballAndPlayer.iloc[0]['defensiveTeam']]"
   ]
  },
  {
   "cell_type": "markdown",
   "id": "1695a205",
   "metadata": {},
   "source": [
    "Plot the distance between each player and the ball at all times during the play"
   ]
  },
  {
   "cell_type": "code",
   "execution_count": null,
   "id": "dc4102c1",
   "metadata": {
    "ExecuteTime": {
     "end_time": "2024-06-21T17:01:30.271746Z",
     "start_time": "2024-06-21T17:01:30.260268Z"
    },
    "scrolled": true
   },
   "outputs": [],
   "source": [
    "playersInGame = set(defense['displayName_y'])\n",
    "for index, player in enumerate(playersInGame):\n",
    "    plt.plot(defense[defense['displayName_y'] == player]['frameId'], defense[defense['displayName_y'] == player]['distanceFromBall'])\n",
    "plt.legend(playersInGame)\n",
    "plt.axhline(0)\n",
    "plt.axvline(defense[defense['event'] == \"tackle\"]['frameId'].iloc[0])\n",
    "plt.show()"
   ]
  },
  {
   "cell_type": "markdown",
   "id": "ab5986c2",
   "metadata": {},
   "source": [
    "Plot the speed of the player at all times"
   ]
  },
  {
   "cell_type": "code",
   "execution_count": null,
   "id": "96d7fc09",
   "metadata": {
    "ExecuteTime": {
     "end_time": "2024-06-21T17:01:36.645603Z",
     "start_time": "2024-06-21T17:01:36.640348Z"
    },
    "scrolled": true
   },
   "outputs": [],
   "source": [
    "playersInGame = set(defense['displayName_y'])\n",
    "for index, player in enumerate(playersInGame):\n",
    "    plt.plot(defense[defense['displayName_y'] == player]['frameId'], defense[defense['displayName_y'] == player]['s_y'])\n",
    "plt.legend(playersInGame)\n",
    "plt.axvline(defense[defense['event'] == \"tackle\"]['frameId'].iloc[0])\n",
    "plt.show()"
   ]
  },
  {
   "cell_type": "markdown",
   "id": "e2205cf3",
   "metadata": {},
   "source": [
    "Plot the acceleration of the player at all times"
   ]
  },
  {
   "cell_type": "code",
   "execution_count": null,
   "id": "9fa1dad7",
   "metadata": {
    "ExecuteTime": {
     "end_time": "2024-06-21T17:01:38.140172Z",
     "start_time": "2024-06-21T17:01:38.135353Z"
    },
    "scrolled": true
   },
   "outputs": [],
   "source": [
    "playersInGame = set(defense['displayName_y'])\n",
    "for index, player in enumerate(playersInGame):\n",
    "    plt.plot(defense[defense['displayName_y'] == player]['frameId'], defense[defense['displayName_y'] == player]['a_y'])\n",
    "plt.legend(playersInGame)\n",
    "plt.axvline(defense[defense['event'] == \"tackle\"]['frameId'].iloc[0])\n",
    "plt.show()"
   ]
  },
  {
   "cell_type": "markdown",
   "id": "9b4794ca",
   "metadata": {},
   "source": [
    "# Classify each tackle as open-field, sideline, in the hole, solo, or gang."
   ]
  },
  {
   "cell_type": "markdown",
   "id": "23e701fb",
   "metadata": {},
   "source": [
    "Criteria for each tackle:\n",
    "- open field\n",
    "    - The defender is \n",
    "    \n",
    "ToDo:\n",
    "Use a semi-supervised algorothm to classify all tackles\n",
    "Use this classification to rank players on their ability to make these specific tackles\n",
    "Create a reinforcemnt learning agent to make each type of tackle and see what the computer can do to make each tackle"
   ]
  },
  {
   "cell_type": "code",
   "execution_count": null,
   "id": "c989e0f5",
   "metadata": {
    "ExecuteTime": {
     "end_time": "2024-06-21T17:01:40.120546Z",
     "start_time": "2024-06-21T17:01:40.116964Z"
    }
   },
   "outputs": [],
   "source": []
  }
 ],
 "metadata": {
  "kernelspec": {
   "display_name": "Python 3 (ipykernel)",
   "language": "python",
   "name": "python3"
  },
  "language_info": {
   "codemirror_mode": {
    "name": "ipython",
    "version": 3
   },
   "file_extension": ".py",
   "mimetype": "text/x-python",
   "name": "python",
   "nbconvert_exporter": "python",
   "pygments_lexer": "ipython3",
   "version": "3.11.5"
  }
 },
 "nbformat": 4,
 "nbformat_minor": 5
}
